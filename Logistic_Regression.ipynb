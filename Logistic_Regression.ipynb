{
 "cells": [
  {
   "cell_type": "markdown",
   "metadata": {},
   "source": [
    "Our main aim is to learn the given classfication example and train a model todo binaary classification.\n",
    "We create a  matrix \"X\" which stores the input features x1,x2 along with a column of 1 to accomodate constants. The vector \"y\" stores the output datas. We assume a parameter vector theta which will conatain the final weights. Our algorithm eventually predicts final parameters such that a weighted sum of the input features and predicted parameters can be used to make predictions about the class of a data. The prediction is mapped to the probability of the data belonging to class 1 by the sigmoid function, which taked as input the weighted sum mentioned above. When the input is positive then the output of the logistic function is greater than 0.5 and we classify it to be of class 1 else class 0.\n",
    "We are using gradient descent which learns the opitimum parameters to minimize the  \"Log-Loss Function\". We update our parameters after every iteration,after getting the final parameters we classify according to the probability!\n",
    "\n"
   ]
  },
  {
   "cell_type": "code",
   "execution_count": 1,
   "metadata": {},
   "outputs": [],
   "source": [
    "import pandas as pd\n",
    "import numpy as np\n",
    "import matplotlib.pyplot as plt\n",
    "%matplotlib inline"
   ]
  },
  {
   "cell_type": "code",
   "execution_count": 2,
   "metadata": {},
   "outputs": [],
   "source": [
    "data=pd.read_csv('logistic_data.txt',header=None)               #loading the txt file"
   ]
  },
  {
   "cell_type": "code",
   "execution_count": 3,
   "metadata": {},
   "outputs": [
    {
     "data": {
      "text/html": [
       "<div>\n",
       "<style scoped>\n",
       "    .dataframe tbody tr th:only-of-type {\n",
       "        vertical-align: middle;\n",
       "    }\n",
       "\n",
       "    .dataframe tbody tr th {\n",
       "        vertical-align: top;\n",
       "    }\n",
       "\n",
       "    .dataframe thead th {\n",
       "        text-align: right;\n",
       "    }\n",
       "</style>\n",
       "<table border=\"1\" class=\"dataframe\">\n",
       "  <thead>\n",
       "    <tr style=\"text-align: right;\">\n",
       "      <th></th>\n",
       "      <th>0</th>\n",
       "      <th>1</th>\n",
       "      <th>2</th>\n",
       "    </tr>\n",
       "  </thead>\n",
       "  <tbody>\n",
       "    <tr>\n",
       "      <th>0</th>\n",
       "      <td>34.623660</td>\n",
       "      <td>78.024693</td>\n",
       "      <td>0</td>\n",
       "    </tr>\n",
       "    <tr>\n",
       "      <th>1</th>\n",
       "      <td>30.286711</td>\n",
       "      <td>43.894998</td>\n",
       "      <td>0</td>\n",
       "    </tr>\n",
       "    <tr>\n",
       "      <th>2</th>\n",
       "      <td>35.847409</td>\n",
       "      <td>72.902198</td>\n",
       "      <td>0</td>\n",
       "    </tr>\n",
       "    <tr>\n",
       "      <th>3</th>\n",
       "      <td>60.182599</td>\n",
       "      <td>86.308552</td>\n",
       "      <td>1</td>\n",
       "    </tr>\n",
       "    <tr>\n",
       "      <th>4</th>\n",
       "      <td>79.032736</td>\n",
       "      <td>75.344376</td>\n",
       "      <td>1</td>\n",
       "    </tr>\n",
       "    <tr>\n",
       "      <th>...</th>\n",
       "      <td>...</td>\n",
       "      <td>...</td>\n",
       "      <td>...</td>\n",
       "    </tr>\n",
       "    <tr>\n",
       "      <th>95</th>\n",
       "      <td>83.489163</td>\n",
       "      <td>48.380286</td>\n",
       "      <td>1</td>\n",
       "    </tr>\n",
       "    <tr>\n",
       "      <th>96</th>\n",
       "      <td>42.261701</td>\n",
       "      <td>87.103851</td>\n",
       "      <td>1</td>\n",
       "    </tr>\n",
       "    <tr>\n",
       "      <th>97</th>\n",
       "      <td>99.315009</td>\n",
       "      <td>68.775409</td>\n",
       "      <td>1</td>\n",
       "    </tr>\n",
       "    <tr>\n",
       "      <th>98</th>\n",
       "      <td>55.340018</td>\n",
       "      <td>64.931938</td>\n",
       "      <td>1</td>\n",
       "    </tr>\n",
       "    <tr>\n",
       "      <th>99</th>\n",
       "      <td>74.775893</td>\n",
       "      <td>89.529813</td>\n",
       "      <td>1</td>\n",
       "    </tr>\n",
       "  </tbody>\n",
       "</table>\n",
       "<p>100 rows × 3 columns</p>\n",
       "</div>"
      ],
      "text/plain": [
       "            0          1  2\n",
       "0   34.623660  78.024693  0\n",
       "1   30.286711  43.894998  0\n",
       "2   35.847409  72.902198  0\n",
       "3   60.182599  86.308552  1\n",
       "4   79.032736  75.344376  1\n",
       "..        ...        ... ..\n",
       "95  83.489163  48.380286  1\n",
       "96  42.261701  87.103851  1\n",
       "97  99.315009  68.775409  1\n",
       "98  55.340018  64.931938  1\n",
       "99  74.775893  89.529813  1\n",
       "\n",
       "[100 rows x 3 columns]"
      ]
     },
     "execution_count": 3,
     "metadata": {},
     "output_type": "execute_result"
    }
   ],
   "source": [
    "data"
   ]
  },
  {
   "cell_type": "code",
   "execution_count": 4,
   "metadata": {
    "scrolled": true
   },
   "outputs": [
    {
     "data": {
      "text/html": [
       "<div>\n",
       "<style scoped>\n",
       "    .dataframe tbody tr th:only-of-type {\n",
       "        vertical-align: middle;\n",
       "    }\n",
       "\n",
       "    .dataframe tbody tr th {\n",
       "        vertical-align: top;\n",
       "    }\n",
       "\n",
       "    .dataframe thead th {\n",
       "        text-align: right;\n",
       "    }\n",
       "</style>\n",
       "<table border=\"1\" class=\"dataframe\">\n",
       "  <thead>\n",
       "    <tr style=\"text-align: right;\">\n",
       "      <th></th>\n",
       "      <th>0</th>\n",
       "      <th>1</th>\n",
       "      <th>2</th>\n",
       "    </tr>\n",
       "  </thead>\n",
       "  <tbody>\n",
       "    <tr>\n",
       "      <th>count</th>\n",
       "      <td>100.000000</td>\n",
       "      <td>100.000000</td>\n",
       "      <td>100.000000</td>\n",
       "    </tr>\n",
       "    <tr>\n",
       "      <th>mean</th>\n",
       "      <td>65.644274</td>\n",
       "      <td>66.221998</td>\n",
       "      <td>0.600000</td>\n",
       "    </tr>\n",
       "    <tr>\n",
       "      <th>std</th>\n",
       "      <td>19.458222</td>\n",
       "      <td>18.582783</td>\n",
       "      <td>0.492366</td>\n",
       "    </tr>\n",
       "    <tr>\n",
       "      <th>min</th>\n",
       "      <td>30.058822</td>\n",
       "      <td>30.603263</td>\n",
       "      <td>0.000000</td>\n",
       "    </tr>\n",
       "    <tr>\n",
       "      <th>25%</th>\n",
       "      <td>50.919511</td>\n",
       "      <td>48.179205</td>\n",
       "      <td>0.000000</td>\n",
       "    </tr>\n",
       "    <tr>\n",
       "      <th>50%</th>\n",
       "      <td>67.032988</td>\n",
       "      <td>67.682381</td>\n",
       "      <td>1.000000</td>\n",
       "    </tr>\n",
       "    <tr>\n",
       "      <th>75%</th>\n",
       "      <td>80.212529</td>\n",
       "      <td>79.360605</td>\n",
       "      <td>1.000000</td>\n",
       "    </tr>\n",
       "    <tr>\n",
       "      <th>max</th>\n",
       "      <td>99.827858</td>\n",
       "      <td>98.869436</td>\n",
       "      <td>1.000000</td>\n",
       "    </tr>\n",
       "  </tbody>\n",
       "</table>\n",
       "</div>"
      ],
      "text/plain": [
       "                0           1           2\n",
       "count  100.000000  100.000000  100.000000\n",
       "mean    65.644274   66.221998    0.600000\n",
       "std     19.458222   18.582783    0.492366\n",
       "min     30.058822   30.603263    0.000000\n",
       "25%     50.919511   48.179205    0.000000\n",
       "50%     67.032988   67.682381    1.000000\n",
       "75%     80.212529   79.360605    1.000000\n",
       "max     99.827858   98.869436    1.000000"
      ]
     },
     "execution_count": 4,
     "metadata": {},
     "output_type": "execute_result"
    }
   ],
   "source": [
    "data.describe()                     #describing the dataframe to know all about it"
   ]
  },
  {
   "cell_type": "code",
   "execution_count": 5,
   "metadata": {},
   "outputs": [],
   "source": [
    "x1=data.iloc[:,0].to_numpy()\n",
    "x2=data.iloc[:,1].to_numpy()\n",
    "y=data.iloc[:,2].to_numpy()\n"
   ]
  },
  {
   "cell_type": "code",
   "execution_count": 22,
   "metadata": {},
   "outputs": [
    {
     "data": {
      "text/plain": [
       "<matplotlib.axes._subplots.AxesSubplot at 0x1f053521348>"
      ]
     },
     "execution_count": 22,
     "metadata": {},
     "output_type": "execute_result"
    },
    {
     "data": {
      "image/png": "[encoded data removed]",
      "text/plain": [
       "<Figure size 432x288 with 1 Axes>"
      ]
     },
     "metadata": {},
     "output_type": "display_data"
    }
   ],
   "source": [
    "import seaborn as sns                                       #to plot the scatter plot with different labels\n",
    "sns.scatterplot(x1,x2,hue=y)"
   ]
  },
  {
   "cell_type": "code",
   "execution_count": 24,
   "metadata": {},
   "outputs": [
    {
     "data": {
      "text/plain": [
       "array([0, 0, 0, 1, 1, 0, 1, 1, 1, 1, 0, 0, 1, 1, 0, 1, 1, 0, 1, 1, 0, 1,\n",
       "       0, 0, 1, 1, 1, 0, 0, 0, 1, 1, 0, 1, 0, 0, 0, 1, 0, 0, 1, 0, 1, 0,\n",
       "       0, 0, 1, 1, 1, 1, 1, 1, 1, 0, 0, 0, 1, 0, 1, 1, 1, 0, 0, 0, 0, 0,\n",
       "       1, 0, 1, 1, 0, 1, 1, 1, 1, 1, 1, 1, 0, 0, 1, 1, 1, 1, 1, 1, 0, 1,\n",
       "       1, 0, 1, 1, 0, 1, 1, 1, 1, 1, 1, 1], dtype=int64)"
      ]
     },
     "execution_count": 24,
     "metadata": {},
     "output_type": "execute_result"
    }
   ],
   "source": [
    "y"
   ]
  },
  {
   "cell_type": "code",
   "execution_count": 25,
   "metadata": {},
   "outputs": [
    {
     "data": {
      "text/plain": [
       "array([0, 0, 0, 1, 1, 0, 1, 1, 1, 1, 0, 0, 1, 1, 0, 1, 1, 0, 1, 1, 0, 1,\n",
       "       0, 0, 1, 1, 1, 0, 0, 0, 1, 1, 0, 1, 0, 0, 0, 1, 0, 0, 1, 0, 1, 0,\n",
       "       0, 0, 1, 1, 1, 1, 1, 1, 1, 0, 0, 0, 1, 0, 1, 1, 1, 0, 0, 0, 0, 0,\n",
       "       1, 0, 1, 1, 0, 1, 1, 1, 1, 1, 1, 1, 0, 0, 1, 1, 1, 1, 1, 1, 0, 1,\n",
       "       1, 0, 1, 1, 0, 1, 1, 1, 1, 1, 1, 1], dtype=int64)"
      ]
     },
     "execution_count": 25,
     "metadata": {},
     "output_type": "execute_result"
    }
   ],
   "source": [
    "y.reshape(-1)"
   ]
  },
  {
   "cell_type": "code",
   "execution_count": 7,
   "metadata": {},
   "outputs": [],
   "source": [
    "x1=(x1-np.amin(x1))/np.ptp(x1)\n",
    "x2=(x2-np.amin(x2))/np.ptp(x2)                        #normalising both features to avoid the dominance of a particukar one"
   ]
  },
  {
   "cell_type": "markdown",
   "metadata": {},
   "source": [
    "We define the sigmoid function which  gives the probability of a given data to be in class 0 or 1. When z>0, s(z)>0.5 so in \"1\" and when z<0 in \"0\" as s(z) < 0.5."
   ]
  },
  {
   "cell_type": "code",
   "execution_count": 8,
   "metadata": {},
   "outputs": [],
   "source": [
    "def sigmoid(x):                                          #sigmoid is the the prediced value\n",
    "    return 1/(1+np.exp(-x))                              #boundary case not included"
   ]
  },
  {
   "cell_type": "markdown",
   "metadata": {},
   "source": [
    "We create our design matrix \"X\""
   ]
  },
  {
   "cell_type": "code",
   "execution_count": 9,
   "metadata": {},
   "outputs": [
    {
     "data": {
      "text/plain": [
       "array([[1.        , 0.06542784, 0.69465488],\n",
       "       [1.        , 0.00326632, 0.19470455],\n",
       "       [1.        , 0.08296784, 0.61961779],\n",
       "       [1.        , 0.43176427, 0.81600135],\n",
       "       [1.        , 0.7019434 , 0.65539214],\n",
       "       [1.        , 0.2153456 , 0.37665959],\n",
       "       [1.        , 0.44500891, 0.96545859],\n",
       "       [1.        , 0.64449684, 0.23365526],\n",
       "       [1.        , 0.65989108, 0.83229079],\n",
       "       [1.        , 0.77934283, 0.18940757],\n",
       "       [1.        , 0.94315096, 0.11165142],\n",
       "       [1.        , 0.64433793, 0.        ],\n",
       "       [1.        , 0.74887421, 0.67205614],\n",
       "       [1.        , 0.56336978, 0.98314328],\n",
       "       [1.        , 0.13586997, 0.6655353 ],\n",
       "       [1.        , 0.34273413, 0.85846452],\n",
       "       [1.        , 0.55914951, 0.32427783],\n",
       "       [1.        , 0.5430494 , 0.23547989],\n",
       "       [1.        , 0.58195856, 0.91295399],\n",
       "       [1.        , 0.67250409, 0.24862534],\n",
       "       [1.        , 0.53481039, 0.17922749],\n",
       "       [1.        , 0.85450448, 0.51557164],\n",
       "       [1.        , 0.29348214, 0.26737325],\n",
       "       [1.        , 0.05952839, 0.19931197],\n",
       "       [1.        , 0.68605319, 0.56205138],\n",
       "       [1.        , 0.46169753, 0.57643769],\n",
       "       [1.        , 0.71853306, 0.20827835],\n",
       "       [1.        , 0.90377581, 0.12008007],\n",
       "       [1.        , 0.45537943, 0.28788555],\n",
       "       [1.        , 0.12508388, 0.50379883],\n",
       "       [1.        , 0.44891644, 0.61823627],\n",
       "       [1.        , 0.7932702 , 0.38743524],\n",
       "       [1.        , 0.3160307 , 0.47643451],\n",
       "       [1.        , 0.31513382, 0.56879704],\n",
       "       [1.        , 0.14588236, 0.59421062],\n",
       "       [1.        , 0.35225201, 0.31656415],\n",
       "       [1.        , 0.05527778, 1.        ],\n",
       "       [1.        , 0.48901588, 0.73689201],\n",
       "       [1.        , 0.64112153, 0.16069675],\n",
       "       [1.        , 0.05912103, 0.65382979],\n",
       "       [1.        , 0.77174023, 0.37653763],\n",
       "       [1.        , 0.3080005 , 0.23808317],\n",
       "       [1.        , 0.92282407, 0.51219597],\n",
       "       [1.        , 0.74975856, 0.14670505],\n",
       "       [1.        , 0.30083445, 0.2229426 ],\n",
       "       [1.        , 0.4610047 , 0.31432447],\n",
       "       [1.        , 0.67557495, 0.58381678],\n",
       "       [1.        , 0.97052763, 0.82214305],\n",
       "       [1.        , 0.45886031, 0.9692291 ],\n",
       "       [1.        , 0.88156804, 0.85097827],\n",
       "       [1.        , 0.71501627, 0.63808845],\n",
       "       [1.        , 0.99204044, 0.44525373],\n",
       "       [1.        , 0.86697331, 0.18731589],\n",
       "       [1.        , 0.06400678, 0.43642522],\n",
       "       [1.        , 0.28992337, 0.28127072],\n",
       "       [1.        , 0.27989286, 0.42782079],\n",
       "       [1.        , 0.96872217, 0.56042851],\n",
       "       [1.        , 0.03609592, 0.95208625],\n",
       "       [1.        , 0.63337365, 0.57453504],\n",
       "       [1.        , 0.59822584, 0.70093719],\n",
       "       [1.        , 0.64981247, 0.80796493],\n",
       "       [1.        , 0.07492278, 0.24048881],\n",
       "       [1.        , 0.37545302, 0.12683016],\n",
       "       [1.        , 0.        , 0.2781716 ],\n",
       "       [1.        , 0.20939718, 0.52510375],\n",
       "       [1.        , 0.52318442, 0.15364615],\n",
       "       [1.        , 0.14904504, 0.98045518],\n",
       "       [1.        , 0.27252406, 0.31172025],\n",
       "       [1.        , 0.71981433, 0.90107289],\n",
       "       [1.        , 0.52584783, 0.44514186],\n",
       "       [1.        , 0.03818328, 0.18609378],\n",
       "       [1.        , 0.48704268, 0.69475735],\n",
       "       [1.        , 0.60610945, 0.96130085],\n",
       "       [1.        , 0.43570996, 0.62244203],\n",
       "       [1.        , 0.4125345 , 0.66292255],\n",
       "       [1.        , 1.        , 0.6118109 ],\n",
       "       [1.        , 0.24660577, 0.84774933],\n",
       "       [1.        , 0.29238382, 0.66221079],\n",
       "       [1.        , 0.43567657, 0.17439305],\n",
       "       [1.        , 0.74772195, 0.17749077],\n",
       "       [1.        , 0.84357013, 0.57423061],\n",
       "       [1.        , 0.92843027, 0.22106181],\n",
       "       [1.        , 0.53405404, 0.52714381],\n",
       "       [1.        , 0.38956944, 0.42350432],\n",
       "       [1.        , 0.72106391, 0.88414045],\n",
       "       [1.        , 0.55052645, 0.8055387 ],\n",
       "       [1.        , 0.17223446, 0.70666805],\n",
       "       [1.        , 0.65098907, 0.87629456],\n",
       "       [1.        , 0.69624872, 0.96745081],\n",
       "       [1.        , 0.31947097, 0.44189151],\n",
       "       [1.        , 0.91782133, 0.68197528],\n",
       "       [1.        , 0.86556634, 0.83358311],\n",
       "       [1.        , 0.36439287, 0.07276576],\n",
       "       [1.        , 0.63687092, 0.79456445],\n",
       "       [1.        , 0.8569272 , 0.21613956],\n",
       "       [1.        , 0.76581739, 0.26040749],\n",
       "       [1.        , 0.17490393, 0.82765132],\n",
       "       [1.        , 0.99264933, 0.55916635],\n",
       "       [1.        , 0.36235552, 0.50286509],\n",
       "       [1.        , 0.64093004, 0.86318813]])"
      ]
     },
     "execution_count": 9,
     "metadata": {},
     "output_type": "execute_result"
    }
   ],
   "source": [
    "f = 2                                   #no of features\n",
    "n = np.size(x1,0)                            #size\n",
    "X=np.ones([n,3])\n",
    "X[:,1]=x1\n",
    "X[:,2]=x2\n",
    "X                                                            "
   ]
  },
  {
   "cell_type": "code",
   "execution_count": 10,
   "metadata": {},
   "outputs": [],
   "source": [
    "def log_loss(X,y,theta):                             #LOSS FUNCTION DEFINITION\n",
    "    n=len(y)\n",
    "    h=sigmoid(np.dot(X,theta))\n",
    "    return -1/n*(np.dot(y,np.log(h))+np.dot(1-y,np.log(1-h)))\n",
    "    "
   ]
  },
  {
   "cell_type": "markdown",
   "metadata": {},
   "source": [
    "Gradient descent algorithm. The parameters get modified at every iteration till they converge,Thus we effectively minimise the loss function."
   ]
  },
  {
   "cell_type": "code",
   "execution_count": 11,
   "metadata": {},
   "outputs": [],
   "source": [
    "def grad_descent(X,y,theta,rate,iters):\n",
    "    n=len(y)\n",
    "    J=np.empty(iters)\n",
    "    for i in range(iters):\n",
    "        theta=theta-rate*(np.dot(X.T,(sigmoid(np.dot(X,theta))-y)))\n",
    "        J[i]=log_loss(X,y,theta)\n",
    "    return (J,theta)"
   ]
  },
  {
   "cell_type": "markdown",
   "metadata": {},
   "source": [
    "We set the no of iteration the algorithm will run and the learning rate. We also initialise the parameters theta to zero initially."
   ]
  },
  {
   "cell_type": "code",
   "execution_count": 12,
   "metadata": {},
   "outputs": [
    {
     "data": {
      "text/plain": [
       "0.6931471805599452"
      ]
     },
     "execution_count": 12,
     "metadata": {},
     "output_type": "execute_result"
    }
   ],
   "source": [
    "n_iter=3000                             #NO OF ITERATIONS\n",
    "l_rate=0.01                               #LEARNING RATE\n",
    "theta=np.zeros(f+1)                      #INTIAL PARAMETERS\n",
    "\n",
    "initial_lossfn=log_loss(X,y,theta)\n",
    "initial_lossfn"
   ]
  },
  {
   "cell_type": "code",
   "execution_count": 13,
   "metadata": {},
   "outputs": [],
   "source": [
    "(J_hist,param)=grad_descent(X,y,theta,l_rate,n_iter)"
   ]
  },
  {
   "cell_type": "code",
   "execution_count": 14,
   "metadata": {},
   "outputs": [
    {
     "name": "stdout",
     "output_type": "stream",
     "text": [
      "[-11.00811714  12.43124551  11.81684463]\n"
     ]
    }
   ],
   "source": [
    "print(param)"
   ]
  },
  {
   "cell_type": "code",
   "execution_count": 15,
   "metadata": {
    "scrolled": true
   },
   "outputs": [
    {
     "name": "stdout",
     "output_type": "stream",
     "text": [
      "The loss function converges : 0.20556739279371425\n"
     ]
    }
   ],
   "source": [
    "print(\"The loss function converges :\",J_hist[-1])"
   ]
  },
  {
   "cell_type": "markdown",
   "metadata": {},
   "source": [
    "Plot a curve to show the convergence of the loss function as a function of the iterations of the gradient descent algorithm"
   ]
  },
  {
   "cell_type": "code",
   "execution_count": 16,
   "metadata": {
    "scrolled": true
   },
   "outputs": [
    {
     "data": {
      "text/plain": [
       "Text(0, 0.5, 'Cost')"
      ]
     },
     "execution_count": 16,
     "metadata": {},
     "output_type": "execute_result"
    },
    {
     "data": {
      "image/png": "[encoded data removed]",
      "text/plain": [
       "<Figure size 432x288 with 1 Axes>"
      ]
     },
     "metadata": {
      "needs_background": "light"
     },
     "output_type": "display_data"
    }
   ],
   "source": [
    "import seaborn as sns\n",
    "plt.figure()\n",
    "sns.set_style('white')\n",
    "plt.plot(range(len(J_hist)), J_hist, 'r')                  \n",
    "plt.title(\"Convergence graph\")\n",
    "plt.xlabel(\"Iterations\")\n",
    "plt.ylabel(\"Cost\")"
   ]
  },
  {
   "cell_type": "markdown",
   "metadata": {},
   "source": [
    "x and y axis are the 2 inout values. We also plot a decision boundary to show the predicted linee between the classes. The decision boundary is found by the line where probability of a data belonging to either of the classes is same i.e 0.5 each . It comes out to be a straight line in our case with our assumptions taken earlier as the input value fed to the hypothesis was a linear combination of the input features."
   ]
  },
  {
   "cell_type": "code",
   "execution_count": 17,
   "metadata": {},
   "outputs": [
    {
     "data": {
      "image/png": "[encoded data removed]",
      "text/plain": [
       "<Figure size 432x288 with 1 Axes>"
      ]
     },
     "metadata": {},
     "output_type": "display_data"
    }
   ],
   "source": [
    "slope = -(param[1] / param[2])\n",
    "intercept = -(param[0] / param[2])\n",
    "\n",
    "sns.set_style('white')\n",
    "sns.scatterplot(X[:,1],X[:,2],hue=y.reshape(-1));\n",
    "\n",
    "ax = plt.gca()\n",
    "x_vals = np.array(ax.get_xlim())\n",
    "y_vals = intercept + (slope * x_vals)\n",
    "plt.plot(x_vals, y_vals, c=\"k\");"
   ]
  },
  {
   "cell_type": "markdown",
   "metadata": {},
   "source": [
    "Predicting whether we given data belongs to class 0 or class 1 by using the optimal parameters learned and calculating the probabilty by using the sigmoid function. If the probability of getting class 1 is greater than 0.5 we label it to be belonging to class 1. If not then it is predicted to be belonging to class 0."
   ]
  },
  {
   "cell_type": "code",
   "execution_count": 18,
   "metadata": {},
   "outputs": [],
   "source": [
    "def predict(X,param):\n",
    "    return np.round(sigmoid(np.dot(X,param)))"
   ]
  },
  {
   "cell_type": "code",
   "execution_count": 19,
   "metadata": {},
   "outputs": [
    {
     "data": {
      "text/plain": [
       "array([0., 0., 0., 1., 1., 0., 1., 0., 1., 1., 1., 0., 1., 1., 0., 1., 0.,\n",
       "       0., 1., 1., 0., 1., 0., 0., 1., 1., 1., 1., 0., 0., 1., 1., 0., 0.,\n",
       "       0., 0., 1., 1., 0., 0., 1., 0., 1., 1., 0., 0., 1., 1., 1., 1., 1.,\n",
       "       1., 1., 0., 0., 0., 1., 1., 1., 1., 1., 0., 0., 0., 0., 0., 1., 0.,\n",
       "       1., 1., 0., 1., 1., 1., 1., 1., 1., 1., 0., 1., 1., 1., 1., 0., 1.,\n",
       "       1., 0., 1., 1., 0., 1., 1., 0., 1., 1., 1., 1., 1., 0., 1.])"
      ]
     },
     "execution_count": 19,
     "metadata": {},
     "output_type": "execute_result"
    }
   ],
   "source": [
    "y_pred=predict(X,param)\n",
    "y_pred"
   ]
  },
  {
   "cell_type": "markdown",
   "metadata": {},
   "source": [
    "We calculate the accuracy of our prediction by dividing the no of correct predictions by the total no of observations."
   ]
  },
  {
   "cell_type": "code",
   "execution_count": 21,
   "metadata": {},
   "outputs": [
    {
     "name": "stdout",
     "output_type": "stream",
     "text": [
      "0.89\n"
     ]
    }
   ],
   "source": [
    "score = float(sum(y_pred == y))/ float(len(y))                 #the accuracy of our laerned model for the inputs!\n",
    "print(score)"
   ]
  },
  {
   "cell_type": "code",
   "execution_count": null,
   "metadata": {},
   "outputs": [],
   "source": []
  }
 ],
 "metadata": {
  "kernelspec": {
   "display_name": "Python 3",
   "language": "python",
   "name": "python3"
  },
  "language_info": {
   "codemirror_mode": {
    "name": "ipython",
    "version": 3
   },
   "file_extension": ".py",
   "mimetype": "text/x-python",
   "name": "python",
   "nbconvert_exporter": "python",
   "pygments_lexer": "ipython3",
   "version": "3.7.6"
  }
 },
 "nbformat": 4,
 "nbformat_minor": 2
}
